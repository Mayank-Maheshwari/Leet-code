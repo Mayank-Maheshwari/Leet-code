{
 "cells": [
  {
   "cell_type": "markdown",
   "id": "baf80397-04d0-4b4f-9119-6a44bd86bfb1",
   "metadata": {},
   "source": [
    "128. Longest Consecutive Sequence\n",
    "Solved\n",
    "Medium\n",
    "Topics\n",
    "premium lock icon\n",
    "Companies\n",
    "Given an unsorted array of integers nums, return the length of the longest consecutive elements sequence.\n",
    "\n",
    "You must write an algorithm that runs in O(n) time.\n",
    "\n",
    " \n",
    "\n",
    "Example 1:\n",
    "\n",
    "Input: nums = [100,4,200,1,3,2]\n",
    "Output: 4\n",
    "Explanation: The longest consecutive elements sequence is [1, 2, 3, 4]. Therefore its length is 4.\n",
    "\n",
    "\n",
    "Example 2:\n",
    "\n",
    "Input: nums = [0,3,7,2,5,8,4,6,0,1]\n",
    "Output: 9\n",
    "\n",
    "\n",
    "\n",
    "Example 3:\n",
    "\n",
    "Input: nums = [1,0,1,2]\n",
    "Output: 3\n",
    " \n",
    "\n",
    "Constraints:\n",
    "\n",
    "0 <= nums.length <= 105\n",
    "-109 <= nums[i] <= 109"
   ]
  },
  {
   "cell_type": "code",
   "execution_count": 2,
   "id": "756ef80e-106c-45b9-9141-db6ac235b761",
   "metadata": {},
   "outputs": [],
   "source": [
    "\"\"\"\n",
    "In this problem, we need to find the length of the longest sequence of consecutive integers.\n",
    "\n",
    "For example, given [100, 4, 200, 1, 3, 2]:\n",
    "- The longest consecutive sequence is [1, 2, 3, 4], so the answer is 4.\n",
    "- To find this efficiently, we store all numbers in a set for O(1) lookups.\n",
    "- We only start counting from numbers that could be the start of a sequence (i.e., i - 1 is not in the set).\n",
    "\n",
    "Time Complexity: O(n)\n",
    "Space Complexity: O(n)\n",
    "\"\"\"\n",
    "\n",
    "class Solution:\n",
    "    def longestConsecutive(self, nums: list[int]) -> int:\n",
    "        # Time: O(n) | Space: O(n)\n",
    "        if len(nums) == 0:\n",
    "            return 0\n",
    "        \n",
    "        s = set(nums)  # Store all numbers for O(1) lookups\n",
    "        longest = 0  # Stores the longest sequence length\n",
    "\n",
    "        # Loop through each unique number\n",
    "        for num in s:\n",
    "            # Only start a sequence if num - 1 is not in the set (i.e., this is the sequence start)\n",
    "            if num - 1 not in s:\n",
    "                current_num = num\n",
    "                current_streak = 1\n",
    "\n",
    "                # Count consecutive numbers: num, num+1, num+2, ...\n",
    "                while current_num + 1 in s:\n",
    "                    current_num += 1\n",
    "                    current_streak += 1\n",
    "\n",
    "                # Update maximum length found so far\n",
    "                longest = max(longest, current_streak)\n",
    "\n",
    "        return longest\n"
   ]
  },
  {
   "cell_type": "code",
   "execution_count": 4,
   "id": "7628a303-6faa-47fd-b9e9-599d078e4045",
   "metadata": {},
   "outputs": [
    {
     "name": "stdout",
     "output_type": "stream",
     "text": [
      "Length of the longest consecutive sequence: 5\n"
     ]
    }
   ],
   "source": [
    "\n",
    "# Example usage\n",
    "if __name__ == \"__main__\":\n",
    "    nums = [100, 4, 200, 1, 3, 2,5]\n",
    "    solution = Solution()\n",
    "    result = solution.longestConsecutive(nums)\n",
    "    print(\"Length of the longest consecutive sequence:\", result)\n"
   ]
  }
 ],
 "metadata": {
  "kernelspec": {
   "display_name": "Python 3 (ipykernel)",
   "language": "python",
   "name": "python3"
  },
  "language_info": {
   "codemirror_mode": {
    "name": "ipython",
    "version": 3
   },
   "file_extension": ".py",
   "mimetype": "text/x-python",
   "name": "python",
   "nbconvert_exporter": "python",
   "pygments_lexer": "ipython3",
   "version": "3.13.5"
  }
 },
 "nbformat": 4,
 "nbformat_minor": 5
}
