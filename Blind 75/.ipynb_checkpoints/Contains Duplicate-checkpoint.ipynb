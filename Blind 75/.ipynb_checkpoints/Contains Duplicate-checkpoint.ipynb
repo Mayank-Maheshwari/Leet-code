{
 "cells": [
  {
   "cell_type": "markdown",
   "id": "e008ed3b-20e7-4483-b329-8a65b9fec9fd",
   "metadata": {},
   "source": [
    "217. Contains Duplicate\n",
    "\n",
    "\n",
    "\n",
    "Given an integer array nums, return true if any value appears at least twice in the array, and return false if every element is distinct.\n",
    "\n",
    " \n",
    "\n",
    "Example 1:\n",
    "\n",
    "Input: nums = [1,2,3,1]\n",
    "\n",
    "Output: true\n",
    "\n",
    "Explanation:\n",
    "\n",
    "The element 1 occurs at the indices 0 and 3.\n",
    "\n",
    "\n",
    "\n",
    "Example 2:\n",
    "\n",
    "Input: nums = [1,2,3,4]\n",
    "\n",
    "Output: false\n",
    "\n",
    "Explanation:\n",
    "\n",
    "All elements are distinct.\n",
    "\n",
    "\n",
    "\n",
    "Example 3:\n",
    "\n",
    "Input: nums = [1,1,1,3,3,4,3,2,4,2]\n",
    "\n",
    "Output: true\n",
    "\n",
    " \n",
    "\n",
    "Constraints:\n",
    "\n",
    "1 <= nums.length <= 105\n",
    "-109 <= nums[i] <= 109"
   ]
  },
  {
   "cell_type": "code",
   "execution_count": 4,
   "id": "67e7f628-d920-421b-bc8b-77413fead4f4",
   "metadata": {},
   "outputs": [],
   "source": [
    "class Solution:\n",
    "    def containsDuplicate(self, nums: list[int]) -> bool:\n",
    "        \"\"\"\n",
    "        This function checks if there are any duplicate elements in the list.\n",
    "\n",
    "        It uses a hash set to keep track of seen numbers.\n",
    "        If a number is already in the set, we found a duplicate.\n",
    "\n",
    "        Time Complexity: O(n) - each number is checked and added once.\n",
    "        Space Complexity: O(n) - in worst case, all numbers are unique and stored in the set.\n",
    "        \"\"\"\n",
    "        s = set()  # Initialize an empty set to store unique numbers\n",
    "\n",
    "        for i in nums:\n",
    "            if i in s:\n",
    "                return True  # Duplicate found\n",
    "            s.add(i)  # Add number to the set\n",
    "\n",
    "        return False  # No duplicates found\n"
   ]
  },
  {
   "cell_type": "code",
   "execution_count": 5,
   "id": "4ccd9ac9-92aa-4372-89d6-249ceb8749d5",
   "metadata": {},
   "outputs": [
    {
     "name": "stdout",
     "output_type": "stream",
     "text": [
      "Does nums1 contain duplicates? False\n",
      "Does nums2 contain duplicates? True\n"
     ]
    }
   ],
   "source": [
    "if __name__ == \"__main__\":\n",
    "    nums1 = [1, 2, 3, 4, 5]\n",
    "    nums2 = [1, 2, 3, 1]\n",
    "\n",
    "    solution = Solution()\n",
    "    print(\"Does nums1 contain duplicates?\", solution.containsDuplicate(nums1))  # Expected: False\n",
    "    print(\"Does nums2 contain duplicates?\", solution.containsDuplicate(nums2))  # Expected: True"
   ]
  }
 ],
 "metadata": {
  "kernelspec": {
   "display_name": "Python 3 (ipykernel)",
   "language": "python",
   "name": "python3"
  },
  "language_info": {
   "codemirror_mode": {
    "name": "ipython",
    "version": 3
   },
   "file_extension": ".py",
   "mimetype": "text/x-python",
   "name": "python",
   "nbconvert_exporter": "python",
   "pygments_lexer": "ipython3",
   "version": "3.13.5"
  }
 },
 "nbformat": 4,
 "nbformat_minor": 5
}
