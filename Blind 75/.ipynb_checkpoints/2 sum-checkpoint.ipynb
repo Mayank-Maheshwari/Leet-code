{
 "cells": [
  {
   "cell_type": "markdown",
   "id": "4aad5b97-ec1c-4a81-ad42-2a465bf52c17",
   "metadata": {},
   "source": [
    "Given an array of integers nums and an integer target, return indices of the two numbers such that they add up to target.\n",
    "\n",
    "You may assume that each input would have exactly one solution, and you may not use the same element twice.\n",
    "\n",
    "You can return the answer in any order.\n",
    "\n",
    "\n",
    "Example 1:\n",
    "\n",
    "Input: nums = [2,7,11,15], target = 9\n",
    "Output: [0,1]\n",
    "Explanation: Because nums[0] + nums[1] == 9, we return [0, 1].\n",
    "\n",
    "\n",
    "Example 2:\n",
    "\n",
    "Input: nums = [3,2,4], target = 6\n",
    "Output: [1,2]\n",
    "Example 3:\n",
    "\n",
    "Input: nums = [3,3], target = 6\n",
    "Output: [0,1]\n",
    " \n",
    "\n",
    "Constraints:\n",
    "\n",
    "2 <= nums.length <= 104\n",
    "-109 <= nums[i] <= 109\n",
    "-109 <= target <= 109\n",
    "Only one valid answer exists.\n",
    "\n",
    "Follow-up: Can you come up with an algorithm that is less than O(n2) time complexity?"
   ]
  },
  {
   "cell_type": "code",
   "execution_count": 5,
   "id": "e8b86d09-cc74-485f-aef1-c77742a8f72a",
   "metadata": {},
   "outputs": [],
   "source": [
    "\"\"\"\n",
    "In this problem, we have to find two numbers in a list that sum up to a target number.\n",
    "\n",
    "We use a hash set (set) to store elements we have already seen while iterating.  \n",
    "For each number, we calculate its complement (target - number) and check if the complement exists in the hash set.  \n",
    "\n",
    "This solution runs in O(n) time because each lookup and insert in a hash map is O(1).  \n",
    "It also uses O(n) extra space to store the hash ste.\n",
    "\"\"\"\n",
    "\n",
    "class Solution:\n",
    "    def twoSum(self, nums: list[int], target: int) -> list[int]:\n",
    "        # Time: O(n) | Space: O(n)\n",
    "        \n",
    "        # Dictionary to store number: index pairs for quick lookup\n",
    "        seen = {}\n",
    "\n",
    "        # Iterate over the list with index and value: O(n)\n",
    "        for i, n in enumerate(nums):\n",
    "            # Calculate the number needed to reach the target\n",
    "            ser = target - n\n",
    "\n",
    "            # Check if the needed number exists in the hash map: O(1)\n",
    "            if ser in seen:\n",
    "                return [i, seen[ser]]  # Pair found, return indices\n",
    "\n",
    "            # Otherwise, store the current number with its index\n",
    "            seen[n] = i\n",
    "\n",
    "        # If no pair sums to target, return empty list\n",
    "        return []\n"
   ]
  },
  {
   "cell_type": "code",
   "execution_count": 6,
   "id": "8554e15e-78e4-467b-90a3-9ac48c1cdd72",
   "metadata": {},
   "outputs": [
    {
     "name": "stdout",
     "output_type": "stream",
     "text": [
      "Indices of numbers adding up to target: [1, 0]\n"
     ]
    }
   ],
   "source": [
    "if __name__ == \"__main__\":\n",
    "    nums = [2, 7, 11, 15]\n",
    "    target = 9\n",
    "\n",
    "    solution = Solution()\n",
    "    result = solution.twoSum(nums, target)\n",
    "    print(\"Indices of numbers adding up to target:\", result)"
   ]
  }
 ],
 "metadata": {
  "kernelspec": {
   "display_name": "Python 3 (ipykernel)",
   "language": "python",
   "name": "python3"
  },
  "language_info": {
   "codemirror_mode": {
    "name": "ipython",
    "version": 3
   },
   "file_extension": ".py",
   "mimetype": "text/x-python",
   "name": "python",
   "nbconvert_exporter": "python",
   "pygments_lexer": "ipython3",
   "version": "3.13.5"
  }
 },
 "nbformat": 4,
 "nbformat_minor": 5
}
