{
 "cells": [
  {
   "cell_type": "markdown",
   "id": "1c35d7dd-220b-4239-a104-a6e890d9bb62",
   "metadata": {},
   "source": [
    "121. Best Time to Buy and Sell Stock\n",
    "\n",
    "\n",
    "\n",
    "You are given an array prices where prices[i] is the price of a given stock on the ith day.\n",
    "\n",
    "You want to maximize your profit by choosing a single day to buy one stock and choosing a different day in the future to sell that stock.\n",
    "\n",
    "Return the maximum profit you can achieve from this transaction. If you cannot achieve any profit, return 0.\n",
    "\n",
    " \n",
    "\n",
    "Example 1:\n",
    "\n",
    "Input: prices = [7,1,5,3,6,4]\n",
    "Output: 5\n",
    "Explanation: Buy on day 2 (price = 1) and sell on day 5 (price = 6), profit = 6-1 = 5.\n",
    "Note that buying on day 2 and selling on day 1 is not allowed because you must buy before you sell.\n",
    "Example 2:\n",
    "\n",
    "Input: prices = [7,6,4,3,1]\n",
    "Output: 0\n",
    "Explanation: In this case, no transactions are done and the max profit = 0.\n",
    " \n",
    "\n",
    "Constraints:\n",
    "\n",
    "1 <= prices.length <= 105\n",
    "0 <= prices[i] <= 104"
   ]
  },
  {
   "cell_type": "code",
   "execution_count": 1,
   "id": "6c3f5071-ab81-4aa0-ae07-2437ed167b5a",
   "metadata": {},
   "outputs": [],
   "source": [
    "class Solution:\n",
    "    def maxProfit(self, prices):\n",
    "        \"\"\"\n",
    "        This function finds the maximum profit from buying and selling a stock once.\n",
    "\n",
    "        Idea:\n",
    "        - Use two pointers:\n",
    "            left: the day to buy\n",
    "            right: the day to sell\n",
    "        - If selling price is higher than buying price, calculate profit.\n",
    "        - If selling price is lower, move left pointer to right pointer (better buying price).\n",
    "\n",
    "        Time Complexity: O(n) - loop runs once through prices.\n",
    "        Space Complexity: O(1) - uses only constant extra space.\n",
    "        \"\"\"\n",
    "\n",
    "        left = 0   # Buy pointer\n",
    "        right = 1  # Sell pointer\n",
    "        max_profit = 0\n",
    "\n",
    "        while right < len(prices):\n",
    "            currentProfit = prices[right] - prices[left]  # Current potential profit\n",
    "\n",
    "            if prices[left] < prices[right]:\n",
    "                # If we can make a profit, check if it's the max so far\n",
    "                max_profit = max(currentProfit, max_profit)\n",
    "            else:\n",
    "                # If selling price is lower, update buying point to current day\n",
    "                left = right\n",
    "\n",
    "            right += 1  # Move sell pointer\n",
    "\n",
    "        return max_profit\n"
   ]
  },
  {
   "cell_type": "code",
   "execution_count": 3,
   "id": "c148dca5-42af-49b0-93f8-7c24a15eb54b",
   "metadata": {},
   "outputs": [
    {
     "name": "stdout",
     "output_type": "stream",
     "text": [
      "Maximum profit: 8\n"
     ]
    }
   ],
   "source": [
    "if __name__ == \"__main__\":\n",
    "    prices = [7, 1, 5, 3, 6, 4,9]\n",
    "    solution = Solution()\n",
    "    print(\"Maximum profit:\", solution.maxProfit(prices))  # Expected: 5 (Buy at 1, sell at 6)\n"
   ]
  }
 ],
 "metadata": {
  "kernelspec": {
   "display_name": "Python 3 (ipykernel)",
   "language": "python",
   "name": "python3"
  },
  "language_info": {
   "codemirror_mode": {
    "name": "ipython",
    "version": 3
   },
   "file_extension": ".py",
   "mimetype": "text/x-python",
   "name": "python",
   "nbconvert_exporter": "python",
   "pygments_lexer": "ipython3",
   "version": "3.13.5"
  }
 },
 "nbformat": 4,
 "nbformat_minor": 5
}
