{
 "cells": [
  {
   "cell_type": "markdown",
   "id": "e6a3e37e-c14e-473a-bda5-243bace9efba",
   "metadata": {},
   "source": [
    "Given a string s, find the length of the longest substring without duplicate characters.\n",
    "\n",
    " \n",
    "\n",
    "Example 1:\n",
    "\n",
    "Input: s = \"abcabcbb\"\n",
    "Output: 3\n",
    "Explanation: The answer is \"abc\", with the length of 3.\n",
    "\n",
    "    \n",
    "Example 2:\n",
    "\n",
    "Input: s = \"bbbbb\"\n",
    "Output: 1\n",
    "Explanation: The answer is \"b\", with the length of 1.\n",
    "\n",
    "\n",
    "    \n",
    "Example 3:\n",
    "\n",
    "Input: s = \"pwwkew\"\n",
    "Output: 3\n",
    "Explanation: The answer is \"wke\", with the length of 3.\n",
    "Notice that the answer must be a substring, \"pwke\" is a subsequence and not a substring.\n",
    " \n",
    "\n",
    "Constraints:\n",
    "\n",
    "0 <= s.length <= 5 * 104\n",
    "s consists of English letters, digits, symbols and spaces."
   ]
  },
  {
   "cell_type": "code",
   "execution_count": 5,
   "id": "ae36cd48-b352-4da8-a756-2639e19f0ab6",
   "metadata": {},
   "outputs": [],
   "source": [
    "class Solution:\n",
    "    def lengthOfLongestSubstring(self, s: str) -> int:\n",
    "        \"\"\"\n",
    "        This function finds the length of the longest substring\n",
    "        without repeating characters in a given string.\n",
    "\n",
    "        We use a sliding window with two pointers (l and r)\n",
    "        and a hash map to store the last index of each character seen.\n",
    "\n",
    "        Time Complexity: O(n) - each character is visited at most twice.\n",
    "        Space Complexity: O(min(n, m)) - where n = len(s), m = size of the charset.\n",
    "        \"\"\"\n",
    "        _len = len(s)\n",
    "        l = r = 0  # Initialize left and right pointers\n",
    "\n",
    "        seen = {}  # Hash map to store last index of each character\n",
    "        longest = 0  # Store the length of the longest valid substring\n",
    "\n",
    "        # Iterate until right pointer reaches end of string\n",
    "        while r < _len:\n",
    "            if s[r] not in seen:\n",
    "                # If character not seen, store its index\n",
    "                seen[s[r]] = r\n",
    "            else:\n",
    "                # If character seen before and index >= left pointer\n",
    "                if l <= seen[s[r]]:\n",
    "                    # Move left pointer to 1 position after previous occurrence\n",
    "                    l = seen[s[r]] + 1\n",
    "\n",
    "                # Update the last seen index to current index\n",
    "                seen[s[r]] = r\n",
    "\n",
    "            # Move right pointer forward\n",
    "            r += 1\n",
    "\n",
    "            # Update maximum length if needed\n",
    "            longest = max(longest, (r - l))\n",
    "\n",
    "        return longest\n"
   ]
  },
  {
   "cell_type": "code",
   "execution_count": 6,
   "id": "82039bc4-94b6-4856-8be7-064b993e5a00",
   "metadata": {},
   "outputs": [
    {
     "name": "stdout",
     "output_type": "stream",
     "text": [
      "Length of the longest consecutive sequence: 3\n"
     ]
    }
   ],
   "source": [
    "\n",
    "# Example usage\n",
    "if __name__ == \"__main__\":\n",
    "    s = \"pwwkew\"\n",
    "    solution = Solution()\n",
    "    result = solution.lengthOfLongestSubstring(s)\n",
    "    print(\"Length of the longest consecutive sequence:\", result)"
   ]
  }
 ],
 "metadata": {
  "kernelspec": {
   "display_name": "Python 3 (ipykernel)",
   "language": "python",
   "name": "python3"
  },
  "language_info": {
   "codemirror_mode": {
    "name": "ipython",
    "version": 3
   },
   "file_extension": ".py",
   "mimetype": "text/x-python",
   "name": "python",
   "nbconvert_exporter": "python",
   "pygments_lexer": "ipython3",
   "version": "3.13.5"
  }
 },
 "nbformat": 4,
 "nbformat_minor": 5
}
